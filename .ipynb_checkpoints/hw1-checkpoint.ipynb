{
 "cells": [
  {
   "cell_type": "code",
   "execution_count": 33,
   "metadata": {},
   "outputs": [],
   "source": [
    "# I am not good in python, so this article I used https://habr.com/ru/post/332092/"
   ]
  },
  {
   "cell_type": "code",
   "execution_count": 6,
   "metadata": {},
   "outputs": [],
   "source": [
    "import math"
   ]
  },
  {
   "cell_type": "code",
   "execution_count": 7,
   "metadata": {},
   "outputs": [],
   "source": [
    "class Vector(object):\n",
    "    def __init__(self, x, y):\n",
    "        self.x = x\n",
    "        self.y = y\n",
    "\n",
    "    def __repr__(self):\n",
    "        return \"({0}, {1})\".format(self.x, self.y)\n",
    "\n",
    "    def __add__(self, other):\n",
    "        x = self.x + other.x\n",
    "        y = self.y + other.y\n",
    "        return Vector(x, y)\n",
    "\n",
    "    def __sub__(self, other):\n",
    "        x = self.x - other.x\n",
    "        y = self.y - other.y\n",
    "        return Vector(x, y)\n",
    "\n",
    "    def __rmul__(self, other):\n",
    "        x = self.x * other\n",
    "        y = self.y * other\n",
    "        return Vector(x, y)\n",
    "\n",
    "    def __truediv__(self, other):\n",
    "        x = self.x / other\n",
    "        y = self.y / other\n",
    "        return Vector(x, y)\n",
    "\n",
    "    def Point(self):\n",
    "        return (self.x, self.y)"
   ]
  },
  {
   "cell_type": "code",
   "execution_count": 8,
   "metadata": {},
   "outputs": [],
   "source": [
    "def f(point):\n",
    "    x, y = point\n",
    "    return math.sin(y) * math.e**(1 - math.cos(x))**2 + math.cos(x) * math.e**(1 - math.sin(y))**2 + (x - y)**2"
   ]
  },
  {
   "cell_type": "code",
   "execution_count": 34,
   "metadata": {},
   "outputs": [],
   "source": [
    "def Nelder_Mead(v1 : Vector, v2 : Vector, v3 : Vector, alpha=1, beta=0.5, gamma=2, maxiter=10):\n",
    "    \n",
    "    for i in range(maxiter):\n",
    "        adict = {v1:f(v1.Point()), v2:f(v2.Point()), v3:f(v3.Point())}\n",
    "        points = sorted(adict.items(), key=lambda x: x[1])\n",
    "        \n",
    "        best  = points[0][0]\n",
    "        good  = points[1][0]\n",
    "        worst = points[2][0]\n",
    "        \n",
    "        \n",
    "        mid = (good + best) / 2\n",
    "\n",
    "        # reflection\n",
    "        x_refl = mid + alpha * (mid - worst)\n",
    "        if f(x_refl.Point()) < f(good.Point()):\n",
    "            worst = x_refl\n",
    "        else:\n",
    "            if f(x_refl.Point()) < f(worst.Point()):\n",
    "                worst = x_refl\n",
    "            c = (worst + mid) / 2\n",
    "            if f(c.Point()) < f(worst.Point()):\n",
    "                worst = c\n",
    "        if f(x_refl.Point()) < f(best.Point()):\n",
    "\n",
    "            # expansion\n",
    "            x_exp = mid + gamma * (x_refl - mid)\n",
    "            if f(x_exp.Point()) < f(x_refl.Point()):\n",
    "                worst = x_exp\n",
    "            else:\n",
    "                worst = x_refl\n",
    "        if f(x_refl.Point()) > f(good.Point()):\n",
    "            \n",
    "            # contraction\n",
    "            x_contr = mid + beta * (worst - mid)\n",
    "            if f(x_contr.Point()) < f(worst.Point()):\n",
    "                worst = x_contr\n",
    "\n",
    "        # update points\n",
    "        v1 = worst\n",
    "        v2 = good\n",
    "        v3 = best\n",
    "    return best"
   ]
  },
  {
   "cell_type": "code",
   "execution_count": 36,
   "metadata": {},
   "outputs": [
    {
     "data": {
      "text/plain": [
       "(0.927734375, 0.70751953125)"
      ]
     },
     "execution_count": 36,
     "metadata": {},
     "output_type": "execute_result"
    }
   ],
   "source": [
    "Nelder_Mead(Vector(1, 1), Vector(1, 2), Vector(3, 1))"
   ]
  },
  {
   "cell_type": "code",
   "execution_count": 37,
   "metadata": {},
   "outputs": [
    {
     "data": {
      "text/plain": [
       "(3.06494140625, 4.6580810546875)"
      ]
     },
     "execution_count": 37,
     "metadata": {},
     "output_type": "execute_result"
    }
   ],
   "source": [
    "Nelder_Mead(Vector(4, 4), Vector(1, 2), Vector(3, 1))"
   ]
  },
  {
   "cell_type": "code",
   "execution_count": 38,
   "metadata": {},
   "outputs": [],
   "source": [
    "# Different start points -> different result"
   ]
  },
  {
   "cell_type": "code",
   "execution_count": 41,
   "metadata": {},
   "outputs": [
    {
     "data": {
      "text/plain": [
       "(3.1927863615625, 4.356341750624998)"
      ]
     },
     "execution_count": 41,
     "metadata": {},
     "output_type": "execute_result"
    }
   ],
   "source": [
    "Nelder_Mead(Vector(4, 4), Vector(1, 2), Vector(3, 1), alpha=1.2, beta=0.2)"
   ]
  },
  {
   "cell_type": "code",
   "execution_count": 42,
   "metadata": {},
   "outputs": [
    {
     "data": {
      "text/plain": [
       "(3.1833423353167185, 4.695533837619061)"
      ]
     },
     "execution_count": 42,
     "metadata": {},
     "output_type": "execute_result"
    }
   ],
   "source": [
    "Nelder_Mead(Vector(4, 4), Vector(1, 2), Vector(3, 1), alpha=0.8, beta = 0.7)"
   ]
  },
  {
   "cell_type": "code",
   "execution_count": null,
   "metadata": {},
   "outputs": [],
   "source": [
    "# Different hyperparameters -> different result"
   ]
  }
 ],
 "metadata": {
  "kernelspec": {
   "display_name": "Python 3",
   "language": "python",
   "name": "python3"
  },
  "language_info": {
   "codemirror_mode": {
    "name": "ipython",
    "version": 3
   },
   "file_extension": ".py",
   "mimetype": "text/x-python",
   "name": "python",
   "nbconvert_exporter": "python",
   "pygments_lexer": "ipython3",
   "version": "3.8.5"
  }
 },
 "nbformat": 4,
 "nbformat_minor": 4
}
